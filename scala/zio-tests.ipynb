{
 "cells": [
  {
   "cell_type": "code",
   "execution_count": 1,
   "metadata": {
    "collapsed": false
   },
   "outputs": [
    {
     "data": {
      "text/plain": [
       "\u001b[32mimport \u001b[39m\u001b[36m$ivy.$                   , zio._\n",
       "\u001b[39m\n",
       "\u001b[32mimport \u001b[39m\u001b[36m$ivy.$                           , zio.stream._\n",
       "//import $ivy.`dev.zio::zio-logging:0.5.6`, zio.logging._, zio.logging.log._\n",
       "\n",
       "// simulate getting a file from somewhere\n",
       "\u001b[39m\n",
       "\u001b[36mfile\u001b[39m: \u001b[32mZStream\u001b[39m[\u001b[32mconsole\u001b[39m.\u001b[32mpackage\u001b[39m.\u001b[32mConsole\u001b[39m, \u001b[32mNothing\u001b[39m, \u001b[32mByte\u001b[39m] = zio.stream.ZStream$$anon$1@1a98c974\n",
       "defined \u001b[32mfunction\u001b[39m \u001b[36mprocessLine\u001b[39m"
      ]
     },
     "execution_count": 1,
     "metadata": {},
     "output_type": "execute_result"
    }
   ],
   "source": [
    "import $ivy.`dev.zio::zio:1.0.3`, zio._\n",
    "import $ivy.`dev.zio::zio-streams:1.0.3`, zio.stream._\n",
    "//import $ivy.`dev.zio::zio-logging:0.5.6`, zio.logging._, zio.logging.log._\n",
    "\n",
    "// simulate getting a file from somewhere\n",
    "val file = ZStream.fromChunk(Chunk.fromArray(\"a\\nb\\nc\".getBytes))\n",
    "            .mapM(b => console.putStrLn(s\"getting byte '$b'\").as(b))\n",
    "\n",
    "def processLine(s: String) = console.putStrLn(s\"Processing line $s\")"
   ]
  },
  {
   "cell_type": "code",
   "execution_count": 2,
   "metadata": {
    "collapsed": false
   },
   "outputs": [
    {
     "name": "stdout",
     "output_type": "stream",
     "text": [
      "getting byte '97'\n",
      "getting byte '10'\n",
      "getting byte '98'\n",
      "Partially materialized: 'List(97, 10, 98)'\n",
      "Processing line a\n",
      "getting byte '10'\n",
      "Partially materialized: 'List(10)'\n",
      "Processing line b\n",
      "getting byte '99'\n",
      "Partially materialized: 'List(99)'\n",
      "Processing line c\n"
     ]
    },
    {
     "data": {
      "text/plain": [
       "\u001b[36mp1\u001b[39m: \u001b[32mZIO\u001b[39m[\u001b[32mconsole\u001b[39m.\u001b[32mpackage\u001b[39m.\u001b[32mConsole\u001b[39m, \u001b[32mNothing\u001b[39m, \u001b[32mUnit\u001b[39m] = zio.ZIO$CheckInterrupt@45d962f5"
      ]
     },
     "execution_count": 2,
     "metadata": {},
     "output_type": "execute_result"
    }
   ],
   "source": [
    "val p1 = file\n",
    "      .transduce(ZTransducer.utf8Decode)\n",
    "      .mapM(s => console.putStrLn(s\"Partially materialized: '${s.getBytes.toList}'\").as(s))\n",
    "      .transduce(ZTransducer.splitLines)\n",
    "      .mapM(processLine)\n",
    "      .runDrain\n",
    "\n",
    "Runtime.default.unsafeRun(p1)"
   ]
  },
  {
   "cell_type": "code",
   "execution_count": 3,
   "metadata": {
    "collapsed": false
   },
   "outputs": [
    {
     "name": "stdout",
     "output_type": "stream",
     "text": [
      "getting byte '97'\n",
      "getting byte '10'\n",
      "getting byte '98'\n",
      "Processing line a\n",
      "getting byte '10'\n",
      "Processing line b\n",
      "getting byte '99'\n",
      "Processing line c\n"
     ]
    },
    {
     "data": {
      "text/plain": [
       "\u001b[36mp2\u001b[39m: \u001b[32mZIO\u001b[39m[\u001b[32mconsole\u001b[39m.\u001b[32mpackage\u001b[39m.\u001b[32mConsole\u001b[39m, \u001b[32mNothing\u001b[39m, \u001b[32mUnit\u001b[39m] = zio.ZIO$CheckInterrupt@789acab5"
      ]
     },
     "execution_count": 3,
     "metadata": {},
     "output_type": "execute_result"
    }
   ],
   "source": [
    "val p2 = file\n",
    "      .transduce(ZTransducer.utf8Decode >>> ZTransducer.splitLines)\n",
    "      .mapM(processLine)\n",
    "      .runDrain\n",
    "\n",
    "Runtime.default.unsafeRun(p2)"
   ]
  }
 ],
 "metadata": {
  "kernelspec": {
   "display_name": "Scala",
   "language": "scala",
   "name": "scala"
  },
  "language_info": {
   "codemirror_mode": "text/x-scala",
   "file_extension": ".sc",
   "mimetype": "text/x-scala",
   "name": "scala",
   "nbconvert_exporter": "script",
   "version": "2.13.3"
  }
 },
 "nbformat": 4,
 "nbformat_minor": 2
}
