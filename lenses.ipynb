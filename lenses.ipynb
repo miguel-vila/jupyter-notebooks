{
 "cells": [
  {
   "cell_type": "code",
   "execution_count": 26,
   "metadata": {
    "collapsed": false
   },
   "outputs": [
    {
     "data": {
      "text/plain": [
       "(1,(2,5))"
      ]
     },
     "metadata": {},
     "output_type": "display_data"
    },
    {
     "data": {
      "text/plain": [
       "fromList [(1,'c'),(2,'b')]"
      ]
     },
     "metadata": {},
     "output_type": "display_data"
    },
    {
     "data": {
      "text/plain": [
       "(1,Foo {_n = 2})"
      ]
     },
     "metadata": {},
     "output_type": "display_data"
    },
    {
     "data": {
      "text/plain": [
       "(1,Bar {_foo = Foo {_n = 2}})"
      ]
     },
     "metadata": {},
     "output_type": "display_data"
    },
    {
     "data": {
      "text/plain": [
       "(7,Foo {_n = 10})"
      ]
     },
     "metadata": {},
     "output_type": "display_data"
    },
    {
     "data": {
      "text/plain": [
       "((),Moo {_t = (1,(2,4))})"
      ]
     },
     "metadata": {},
     "output_type": "display_data"
    }
   ],
   "source": [
    "data Lens a b = Lens (a -> b) (b -> a -> a)\n",
    "\n",
    "modify :: Lens a b -> (b -> b) -> a -> a\n",
    "modify (Lens get set) f a = set (f (get a)) a\n",
    "\n",
    "set :: Lens a b -> b -> a -> a\n",
    "set (Lens _ s) b = s b\n",
    "\n",
    "-- Lenses are composable\n",
    "\n",
    "andThen :: Lens a b -> Lens b c -> Lens a c\n",
    "andThen (Lens g1 s1) (Lens g2 s2) = Lens (g2 . g1) (\\c a -> s1 (s2 c (g1 a)) a) -- two sets, one get\n",
    "\n",
    "-- Example lenses\n",
    "\n",
    "trivial :: Lens a ()\n",
    "trivial = Lens (const ()) (const id)\n",
    "\n",
    "self :: Lens a a\n",
    "self = Lens id (\\a _ -> a)\n",
    "\n",
    "fstl :: Lens (a,b) a\n",
    "fstl = Lens fst (\\a (_,b) -> (a,b))\n",
    "\n",
    "sndl :: Lens (a,b) b\n",
    "sndl = Lens snd (\\b (a,_) -> (a,b))\n",
    "\n",
    "foo = (1,(2,3))\n",
    "\n",
    "set (sndl `andThen` sndl) 5 foo\n",
    "\n",
    "--\n",
    "\n",
    "import Prelude hiding (lookup, insert)\n",
    "import Data.Map.Strict\n",
    "\n",
    "member :: Ord k => k -> Lens (Map k v) (Maybe v)\n",
    "member k = Lens (lookup k) set \n",
    "    where set (Just v) = insert k v\n",
    "          set Nothing  = delete k\n",
    "          \n",
    "m = fromList [(1,'a'),(2,'b')]\n",
    "\n",
    "set (member 1) (Just 'c') m\n",
    "\n",
    "-- State \n",
    "\n",
    "import Control.Monad.State\n",
    "\n",
    "asState :: Lens a b -> State a b\n",
    "asState (Lens get _) = state (\\s -> (get s, s)) \n",
    "\n",
    "(<~) :: Lens s a -> a -> State s a\n",
    "(<~) (Lens _ set) a = state (\\s -> (a, set a s))\n",
    "\n",
    "\n",
    "postInc :: Lens s Int -> State s Int\n",
    "postInc lens = do\n",
    "        x <- supply\n",
    "        lens <~ (x + 1)\n",
    "        return x\n",
    "    where supply = asState lens\n",
    "    \n",
    "focus :: State s a -> Lens t s -> State t a\n",
    "focus st (Lens get set) = state st'\n",
    "    where st' t = let (a,s) = runState st (get t)\n",
    "                  in  (a, set s t)\n",
    "                  \n",
    "data Foo = Foo { _n :: Int }\n",
    "            deriving Show\n",
    "\n",
    "n :: Lens Foo Int\n",
    "n = Lens _n (\\m foo -> foo { _n = m })\n",
    "\n",
    "runState (postInc n) (Foo 1)\n",
    "\n",
    "data Bar = Bar { _foo :: Foo }\n",
    "            deriving Show\n",
    "\n",
    "foo :: Lens Bar Foo\n",
    "foo = Lens _foo (\\foo bar -> bar { _foo = foo })\n",
    "\n",
    "st = focus (postInc n) foo\n",
    "\n",
    "runState st (Bar $ Foo 1)\n",
    "\n",
    "-- modify\n",
    "(%=) :: Lens s a -> (a -> a) -> State s a\n",
    "(%=) lens f = do\n",
    "    x <- asState lens\n",
    "    y <- lens <~ (f x)\n",
    "    return y\n",
    "    \n",
    "(+=) :: Lens a Int -> Int -> State a Int\n",
    "(+=) lens n = lens %= (+ n)\n",
    "\n",
    "st = do\n",
    "    x <- asState n\n",
    "    n += 3\n",
    "    return x\n",
    "    \n",
    "runState st (Foo 7)\n",
    "\n",
    "data Moo = Moo { _t :: (Int, (Int,Int)) }\n",
    "            deriving Show\n",
    "\n",
    "t :: Lens Moo (Int,(Int,Int))\n",
    "t = Lens _t (\\t m -> m { _t = t })\n",
    "\n",
    "st = do t <~ (1,(2,3))\n",
    "        (t `andThen` sndl `andThen` sndl) <~ 4\n",
    "        return ()\n",
    "        \n",
    "runState st (Moo (4,(5,6)))"
   ]
  }
 ],
 "metadata": {
  "anaconda-cloud": {},
  "kernelspec": {
   "display_name": "Haskell",
   "language": "haskell",
   "name": "haskell"
  },
  "language_info": {
   "codemirror_mode": "ihaskell",
   "file_extension": ".hs",
   "name": "haskell",
   "version": "8.0.2"
  }
 },
 "nbformat": 4,
 "nbformat_minor": 1
}
