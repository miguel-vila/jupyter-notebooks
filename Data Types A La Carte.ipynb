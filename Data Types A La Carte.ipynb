{
 "cells": [
  {
   "cell_type": "markdown",
   "metadata": {},
   "source": [
    "# Data types á la carte [Swierstra]\n",
    "\n",
    "## 2. Fixing the expression problem"
   ]
  },
  {
   "cell_type": "code",
   "execution_count": 1,
   "metadata": {
    "collapsed": true
   },
   "outputs": [],
   "source": [
    "data Expr f = In (f (Expr f)) -- same thing as Fix in recursion schemes\n",
    "\n",
    "-- things they don't explain in this paper: the \"magic\" in the above definition.\n",
    "-- how it solves the arbitrary nested type problem\n",
    "\n",
    "data Val e = Val Int\n",
    "data Add e = Add e e\n",
    "\n",
    "{-# LANGUAGE TypeOperators #-}\n",
    "\n",
    "infixr 6 :+: -- I think this line is not in the paper but without it it doesn't work\n",
    "\n",
    "data (f :+: g) e = Inl (f e) | Inr (g e)\n",
    "\n",
    "-- `Expr (Val :+: Add)`: an expression built from subexpressions of type `Val` or `Add`\n",
    "\n",
    "addExample :: Expr (Val :+: Add)\n",
    "addExample = In (Inr (Add (In (Inl (Val 118))) (In (Inl (Val 1219)))))\n",
    "\n",
    "-- fixes the expression problem b/c you can add new types and new functions easily?\n",
    "-- how to eval an expression like this?"
   ]
  },
  {
   "cell_type": "markdown",
   "metadata": {},
   "source": [
    "## 3. Evaluation"
   ]
  },
  {
   "cell_type": "code",
   "execution_count": 2,
   "metadata": {
    "collapsed": true
   },
   "outputs": [],
   "source": [
    "instance Functor Val where\n",
    "    fmap f (Val x) = Val x\n",
    "    \n",
    "instance Functor Add where\n",
    "    fmap f (Add l r) = Add (f l) (f r) \n",
    "    \n",
    "instance (Functor f, Functor g) => Functor (f :+: g) where\n",
    "    fmap f (Inl l) = Inl (fmap f l)\n",
    "    fmap f (Inr r) = Inr (fmap f r)\n",
    "    \n",
    "foldExpr :: Functor f => (f a -> a) -> Expr f -> a -- same as cata in recursion schemes, I think\n",
    "foldExpr f (In t) = f (fmap (foldExpr f) t)"
   ]
  },
  {
   "cell_type": "markdown",
   "metadata": {},
   "source": [
    "* `f a -> a` is an algebra: something that does one step of the recursion using the results of the recursive calls\n",
    "* Idea: define and assemble algebras from individual cases (e.g. `Val` or `Add`) in order to define the algebra for the coproduct (e.g. `Val :+: Add`). We can use the type class system for this and teach it how to compose algebras."
   ]
  },
  {
   "cell_type": "code",
   "execution_count": 3,
   "metadata": {
    "collapsed": false
   },
   "outputs": [
    {
     "data": {
      "text/plain": [
       "1337"
      ]
     },
     "metadata": {},
     "output_type": "display_data"
    }
   ],
   "source": [
    "-- A separate class for the algebra we aim to define:\n",
    "class Functor f => Eval f where\n",
    "    evalAlgebra :: f Int -> Int\n",
    "    \n",
    "instance Eval Val where\n",
    "    evalAlgebra (Val x) = x\n",
    "    \n",
    "instance Eval Add where\n",
    "    evalAlgebra (Add x y) = x + y\n",
    "\n",
    "instance (Eval f, Eval g) => Eval (f :+: g) where\n",
    "    evalAlgebra (Inl l) = evalAlgebra l\n",
    "    evalAlgebra (Inr r) = evalAlgebra r\n",
    "    \n",
    "eval :: Eval f => Expr f -> Int\n",
    "eval expr = foldExpr evalAlgebra expr\n",
    "\n",
    "eval addExample"
   ]
  },
  {
   "cell_type": "markdown",
   "metadata": {},
   "source": [
    "## 4. Automating injections\n",
    "\n",
    "A first attempt:"
   ]
  },
  {
   "cell_type": "code",
   "execution_count": 4,
   "metadata": {
    "collapsed": false
   },
   "outputs": [
    {
     "data": {
      "text/html": [
       "<style>/* Styles used for the Hoogle display in the pager */\n",
       ".hoogle-doc {\n",
       "display: block;\n",
       "padding-bottom: 1.3em;\n",
       "padding-left: 0.4em;\n",
       "}\n",
       ".hoogle-code {\n",
       "display: block;\n",
       "font-family: monospace;\n",
       "white-space: pre;\n",
       "}\n",
       ".hoogle-text {\n",
       "display: block;\n",
       "}\n",
       ".hoogle-name {\n",
       "color: green;\n",
       "font-weight: bold;\n",
       "}\n",
       ".hoogle-head {\n",
       "font-weight: bold;\n",
       "}\n",
       ".hoogle-sub {\n",
       "display: block;\n",
       "margin-left: 0.4em;\n",
       "}\n",
       ".hoogle-package {\n",
       "font-weight: bold;\n",
       "font-style: italic;\n",
       "}\n",
       ".hoogle-module {\n",
       "font-weight: bold;\n",
       "}\n",
       ".hoogle-class {\n",
       "font-weight: bold;\n",
       "}\n",
       ".get-type {\n",
       "color: green;\n",
       "font-weight: bold;\n",
       "font-family: monospace;\n",
       "display: block;\n",
       "white-space: pre-wrap;\n",
       "}\n",
       ".show-type {\n",
       "color: green;\n",
       "font-weight: bold;\n",
       "font-family: monospace;\n",
       "margin-left: 1em;\n",
       "}\n",
       ".mono {\n",
       "font-family: monospace;\n",
       "display: block;\n",
       "}\n",
       ".err-msg {\n",
       "color: red;\n",
       "font-style: italic;\n",
       "font-family: monospace;\n",
       "white-space: pre;\n",
       "display: block;\n",
       "}\n",
       "#unshowable {\n",
       "color: red;\n",
       "font-weight: bold;\n",
       "}\n",
       ".err-msg.in.collapse {\n",
       "padding-top: 0.7em;\n",
       "}\n",
       ".highlight-code {\n",
       "white-space: pre;\n",
       "font-family: monospace;\n",
       "}\n",
       ".suggestion-warning { \n",
       "font-weight: bold;\n",
       "color: rgb(200, 130, 0);\n",
       "}\n",
       ".suggestion-error { \n",
       "font-weight: bold;\n",
       "color: red;\n",
       "}\n",
       ".suggestion-name {\n",
       "font-weight: bold;\n",
       "}\n",
       "</style><span class='err-msg'>&lt;interactive&gt;:1:1: error:<br/>    • Couldn't match type ‘Val’ with ‘Add’<br/>      Expected type: Expr Add<br/>        Actual type: Expr Val<br/>    • In the first argument of ‘(&lt;+&gt;)’, namely ‘val 1’<br/>      In the expression: val 1 &lt;+&gt; val 2<br/>      In an equation for ‘it’: it = val 1 &lt;+&gt; val 2<br/>&lt;interactive&gt;:1:11: error:<br/>    • Couldn't match type ‘Val’ with ‘Add’<br/>      Expected type: Expr Add<br/>        Actual type: Expr Val<br/>    • In the second argument of ‘(&lt;+&gt;)’, namely ‘val 2’<br/>      In the expression: val 1 &lt;+&gt; val 2<br/>      In an equation for ‘it’: it = val 1 &lt;+&gt; val 2</span>"
      ],
      "text/plain": [
       "<interactive>:1:1: error:\n",
       "    • Couldn't match type ‘Val’ with ‘Add’\n",
       "      Expected type: Expr Add\n",
       "        Actual type: Expr Val\n",
       "    • In the first argument of ‘(<+>)’, namely ‘val 1’\n",
       "      In the expression: val 1 <+> val 2\n",
       "      In an equation for ‘it’: it = val 1 <+> val 2\n",
       "<interactive>:1:11: error:\n",
       "    • Couldn't match type ‘Val’ with ‘Add’\n",
       "      Expected type: Expr Add\n",
       "        Actual type: Expr Val\n",
       "    • In the second argument of ‘(<+>)’, namely ‘val 2’\n",
       "      In the expression: val 1 <+> val 2\n",
       "      In an equation for ‘it’: it = val 1 <+> val 2"
      ]
     },
     "metadata": {},
     "output_type": "display_data"
    }
   ],
   "source": [
    "val :: Int -> Expr Val\n",
    "val x = In (Val x)\n",
    "\n",
    "infixl 6 <+>\n",
    "\n",
    "(<+>) :: Expr Add -> Expr Add -> Expr Add\n",
    "x <+> y = In (Add x y)\n",
    "\n",
    "val 1 <+> val 2 -- d'oh"
   ]
  },
  {
   "cell_type": "markdown",
   "metadata": {},
   "source": [
    "Idea: make signatures less rigid\n",
    "\n",
    "```haskell\n",
    "(⊕) :: (Add :≺: f ) ⇒ Expr f → Expr f → Expr f\n",
    "val :: (Val :≺: f ) ⇒ Int → Expr f\n",
    "```\n",
    "\n",
    "> The constraint `sub :≺: sup` should only be satisfied if there is some injection from `sub a` to `sup a`.\n",
    "\n",
    "Is `:≺:` a natural transformation?"
   ]
  },
  {
   "cell_type": "code",
   "execution_count": 5,
   "metadata": {
    "collapsed": true
   },
   "outputs": [],
   "source": [
    "{-# LANGUAGE MultiParamTypeClasses #-}\n",
    "\n",
    "-- Idea: rather than writing `Inr` or `Inl` by hand,the \n",
    "-- injections can be inferred using instances of this class:\n",
    "class (Functor sub, Functor sup) => sub :<: sup where\n",
    "    inj :: sub a -> sup a\n",
    "    \n",
    "{-# LANGUAGE FlexibleInstances #-}\n",
    "\n",
    "-- \"Constructors\" that use the types:\n",
    "    \n",
    "-- reflexivity: something can be injected to itself\n",
    "-- base case of the recursive search?\n",
    "instance Functor f => f :<: f where\n",
    "    inj = id\n",
    "\n",
    "-- \"if f is true then f or g is true\". \n",
    "-- Inject anything into any coproduct that contains it explicitly\n",
    "instance {-# OVERLAPPING #-} (Functor f , Functor g) => f :<: (f :+: g) where\n",
    "    inj = Inl\n",
    "\n",
    "-- Inject anything into any coproduct that contains something it can be injected into\n",
    "instance (Functor f , Functor g, Functor h, f :<: g) => f :<: (h :+: g) where\n",
    "    inj = Inr . inj"
   ]
  },
  {
   "cell_type": "code",
   "execution_count": 6,
   "metadata": {
    "collapsed": false
   },
   "outputs": [
    {
     "data": {
      "text/plain": [
       "31337"
      ]
     },
     "metadata": {},
     "output_type": "display_data"
    }
   ],
   "source": [
    "-- defining smart constructors\n",
    "\n",
    "inject :: (g :<: f) => g (Expr f) -> Expr f\n",
    "inject = In . inj\n",
    "\n",
    "{-# LANGUAGE FlexibleContexts #-}\n",
    "\n",
    "val :: (Val :<: f) => Int -> Expr f\n",
    "val = inject . Val\n",
    "\n",
    "infixl 6 <+>\n",
    "\n",
    "(<+>) :: (Add :<: f) => Expr f -> Expr f -> Expr f\n",
    "l <+> r = inject (Add l r)\n",
    "\n",
    "x = val 30000 <+> val 1330 <+> val 7 :: Expr (Val :+: Add)\n",
    "\n",
    "eval x"
   ]
  },
  {
   "cell_type": "markdown",
   "metadata": {},
   "source": [
    "## 5. Examples\n",
    "\n",
    "### Adding a new type"
   ]
  },
  {
   "cell_type": "code",
   "execution_count": 7,
   "metadata": {
    "collapsed": false
   },
   "outputs": [
    {
     "data": {
      "text/plain": [
       "404"
      ]
     },
     "metadata": {},
     "output_type": "display_data"
    }
   ],
   "source": [
    "data Mul x = Mul x x\n",
    "\n",
    "instance Functor Mul where\n",
    "    fmap f (Mul l r) = Mul (f l) (f r)\n",
    "    \n",
    "instance Eval Mul where\n",
    "    evalAlgebra (Mul x y) = x * y\n",
    "    \n",
    "infixl 7 <&> -- don't use <*> to avoid collisions with Applicative\n",
    "\n",
    "(<&>) :: (Mul :<: f) => Expr f -> Expr f -> Expr f\n",
    "l <&> r = inject (Mul l r)\n",
    "\n",
    "x = val 80 <&> val 5 <+> val 4 :: Expr (Mul :+: Add :+: Val)\n",
    "eval x"
   ]
  },
  {
   "cell_type": "markdown",
   "metadata": {},
   "source": [
    "### Adding a new function\n",
    "\n",
    "Objective: Render expressions\n",
    "\n",
    "A first candidate:"
   ]
  },
  {
   "cell_type": "code",
   "execution_count": 8,
   "metadata": {
    "collapsed": true
   },
   "outputs": [],
   "source": [
    "class Render f where\n",
    "    render :: f (Expr f) -> String"
   ]
  },
  {
   "cell_type": "markdown",
   "metadata": {},
   "source": [
    "> The type of render, however, is not general enough. To see this, consider the instance definition for `Add`. We would like to make recursive calls to the subtrees, which themselves might be values, for instance. The above type for render, however, requires that all subtrees of `Add` are themselves additions. Clearly this is undesirable.\n",
    "\n",
    "Why `Eval` doesn't have this problem?\n",
    "\n",
    "A better choice:"
   ]
  },
  {
   "cell_type": "code",
   "execution_count": 9,
   "metadata": {
    "collapsed": false
   },
   "outputs": [
    {
     "data": {
      "text/plain": [
       "\"((80 * 5) + 4)\""
      ]
     },
     "metadata": {},
     "output_type": "display_data"
    }
   ],
   "source": [
    "class Render f where\n",
    "    render :: Render g => f (Expr g) -> String\n",
    "    \n",
    "pretty :: Render f => Expr f -> String\n",
    "pretty (In t) = render t\n",
    "\n",
    "instance Render Val where\n",
    "    render (Val i ) = show i\n",
    "\n",
    "instance Render Add where\n",
    "    render (Add x y) = \"(\" ++ pretty x ++ \" + \" ++ pretty y ++ \")\"\n",
    "\n",
    "instance Render Mul where\n",
    "    render (Mul x y) = \"(\" ++ pretty x ++ \" * \" ++ pretty y ++ \")\"\n",
    "\n",
    "instance (Render f , Render g) => Render (f :+: g) where\n",
    "    render (Inl x) = render x\n",
    "    render (Inr y) = render y\n",
    "    \n",
    "x = val 80 <&> val 5 <+> val 4 :: Expr (Val :+: Add :+: Mul)\n",
    "\n",
    "pretty x"
   ]
  },
  {
   "cell_type": "markdown",
   "metadata": {},
   "source": [
    "Digression (?):\n",
    "\n",
    "`inj` in the `(:<:)` has a partial inverse. We could have defined the class like this:"
   ]
  },
  {
   "cell_type": "code",
   "execution_count": 66,
   "metadata": {
    "collapsed": false
   },
   "outputs": [
    {
     "data": {
      "text/html": [
       "<style>/* Styles used for the Hoogle display in the pager */\n",
       ".hoogle-doc {\n",
       "display: block;\n",
       "padding-bottom: 1.3em;\n",
       "padding-left: 0.4em;\n",
       "}\n",
       ".hoogle-code {\n",
       "display: block;\n",
       "font-family: monospace;\n",
       "white-space: pre;\n",
       "}\n",
       ".hoogle-text {\n",
       "display: block;\n",
       "}\n",
       ".hoogle-name {\n",
       "color: green;\n",
       "font-weight: bold;\n",
       "}\n",
       ".hoogle-head {\n",
       "font-weight: bold;\n",
       "}\n",
       ".hoogle-sub {\n",
       "display: block;\n",
       "margin-left: 0.4em;\n",
       "}\n",
       ".hoogle-package {\n",
       "font-weight: bold;\n",
       "font-style: italic;\n",
       "}\n",
       ".hoogle-module {\n",
       "font-weight: bold;\n",
       "}\n",
       ".hoogle-class {\n",
       "font-weight: bold;\n",
       "}\n",
       ".get-type {\n",
       "color: green;\n",
       "font-weight: bold;\n",
       "font-family: monospace;\n",
       "display: block;\n",
       "white-space: pre-wrap;\n",
       "}\n",
       ".show-type {\n",
       "color: green;\n",
       "font-weight: bold;\n",
       "font-family: monospace;\n",
       "margin-left: 1em;\n",
       "}\n",
       ".mono {\n",
       "font-family: monospace;\n",
       "display: block;\n",
       "}\n",
       ".err-msg {\n",
       "color: red;\n",
       "font-style: italic;\n",
       "font-family: monospace;\n",
       "white-space: pre;\n",
       "display: block;\n",
       "}\n",
       "#unshowable {\n",
       "color: red;\n",
       "font-weight: bold;\n",
       "}\n",
       ".err-msg.in.collapse {\n",
       "padding-top: 0.7em;\n",
       "}\n",
       ".highlight-code {\n",
       "white-space: pre;\n",
       "font-family: monospace;\n",
       "}\n",
       ".suggestion-warning { \n",
       "font-weight: bold;\n",
       "color: rgb(200, 130, 0);\n",
       "}\n",
       ".suggestion-error { \n",
       "font-weight: bold;\n",
       "color: red;\n",
       "}\n",
       ".suggestion-name {\n",
       "font-weight: bold;\n",
       "}\n",
       "</style><span class='err-msg'>&lt;interactive&gt;:21:14: error:<br/>    • Could not deduce (Add IHaskell66.:&lt;: f) arising from a use of ‘&lt;+&gt;’<br/>      from the context: (Add :&lt;: f, Mul :&lt;: f)<br/>        bound by the type signature for:<br/>                   distr :: (Add :&lt;: f, Mul :&lt;: f) =&gt; Expr f -&gt; Maybe (Expr f)<br/>        at &lt;interactive&gt;:17:1-62<br/>    • In the second argument of ‘(<span>&dollar;</span>)’, namely ‘(a &lt;&amp;&gt; c) &lt;+&gt; (a &lt;&amp;&gt; d)’<br/>      In a stmt of a 'do' block: return <span>&dollar;</span> (a &lt;&amp;&gt; c) &lt;+&gt; (a &lt;&amp;&gt; d)<br/>      In the expression:<br/>        do { Mul a b &lt;- match t;<br/>             Add c d &lt;- match b;<br/>             return <span>&dollar;</span> (a &lt;&amp;&gt; c) &lt;+&gt; (a &lt;&amp;&gt; d) }<br/>&lt;interactive&gt;:21:15: error:<br/>    • Could not deduce (Mul IHaskell66.:&lt;: f) arising from a use of ‘&lt;&amp;&gt;’<br/>      from the context: (Add :&lt;: f, Mul :&lt;: f)<br/>        bound by the type signature for:<br/>                   distr :: (Add :&lt;: f, Mul :&lt;: f) =&gt; Expr f -&gt; Maybe (Expr f)<br/>        at &lt;interactive&gt;:17:1-62<br/>    • In the first argument of ‘(&lt;+&gt;)’, namely ‘(a &lt;&amp;&gt; c)’<br/>      In the second argument of ‘(<span>&dollar;</span>)’, namely ‘(a &lt;&amp;&gt; c) &lt;+&gt; (a &lt;&amp;&gt; d)’<br/>      In a stmt of a 'do' block: return <span>&dollar;</span> (a &lt;&amp;&gt; c) &lt;+&gt; (a &lt;&amp;&gt; d)</span>"
      ],
      "text/plain": [
       "<interactive>:21:14: error:\n",
       "    • Could not deduce (Add Ghci66.:<: f) arising from a use of ‘<+>’\n",
       "      from the context: (Add :<: f, Mul :<: f)\n",
       "        bound by the type signature for:\n",
       "                   distr :: (Add :<: f, Mul :<: f) => Expr f -> Maybe (Expr f)\n",
       "        at <interactive>:17:1-62\n",
       "    • In the second argument of ‘($)’, namely ‘(a <&> c) <+> (a <&> d)’\n",
       "      In a stmt of a 'do' block: return $ (a <&> c) <+> (a <&> d)\n",
       "      In the expression:\n",
       "        do { Mul a b <- match t;\n",
       "             Add c d <- match b;\n",
       "             return $ (a <&> c) <+> (a <&> d) }\n",
       "<interactive>:21:15: error:\n",
       "    • Could not deduce (Mul Ghci66.:<: f) arising from a use of ‘<&>’\n",
       "      from the context: (Add :<: f, Mul :<: f)\n",
       "        bound by the type signature for:\n",
       "                   distr :: (Add :<: f, Mul :<: f) => Expr f -> Maybe (Expr f)\n",
       "        at <interactive>:17:1-62\n",
       "    • In the first argument of ‘(<+>)’, namely ‘(a <&> c)’\n",
       "      In the second argument of ‘($)’, namely ‘(a <&> c) <+> (a <&> d)’\n",
       "      In a stmt of a 'do' block: return $ (a <&> c) <+> (a <&> d)"
      ]
     },
     "metadata": {},
     "output_type": "display_data"
    }
   ],
   "source": [
    "class (Functor sub, Functor sup) => sub :<: sup where\n",
    "    inj :: sub a -> sup a\n",
    "    prj :: sup a -> Maybe (sub a)\n",
    "    \n",
    "-- redefining instances:\n",
    "\n",
    "instance Functor f => f :<: f where\n",
    "    inj = id\n",
    "    prj = Just\n",
    "\n",
    "instance {-# OVERLAPPING #-} (Functor f , Functor g) => f :<: (f :+: g) where\n",
    "    inj = Inl\n",
    "    prj (Inl x) = Just x\n",
    "    prj (Inr _) = Nothing\n",
    "\n",
    "instance (Functor f , Functor g, Functor h, f :<: g) => f :<: (h :+: g) where\n",
    "    inj = Inr . inj\n",
    "    prj (Inl h) = Nothing\n",
    "    prj (Inr g) = prj g\n",
    "    \n",
    "match :: (g :<: f ) => Expr f -> Maybe (g (Expr f ))\n",
    "match (In t) = prj t\n",
    "\n",
    "distr :: (Add :<: f , Mul :<: f ) => Expr f -> Maybe (Expr f )\n",
    "distr t = do\n",
    "    Mul a b <- match t\n",
    "    Add c d <- match b\n",
    "    return $ (a <&> c) <+> (a <&> d ) -- doesn't compile :("
   ]
  },
  {
   "cell_type": "markdown",
   "metadata": {},
   "source": [
    "## Monads for free"
   ]
  },
  {
   "cell_type": "code",
   "execution_count": 63,
   "metadata": {
    "collapsed": false
   },
   "outputs": [
    {
     "data": {
      "text/plain": [
       "42"
      ]
     },
     "metadata": {},
     "output_type": "display_data"
    },
    {
     "data": {
      "text/plain": [
       "Just 42"
      ]
     },
     "metadata": {},
     "output_type": "display_data"
    },
    {
     "data": {
      "text/plain": [
       "Left 1337"
      ]
     },
     "metadata": {},
     "output_type": "display_data"
    },
    {
     "data": {
      "text/plain": [
       "Right 42"
      ]
     },
     "metadata": {},
     "output_type": "display_data"
    }
   ],
   "source": [
    "data Term f a = Pure a\n",
    "              | Impure (f (Term f a))\n",
    "              \n",
    "instance Functor f => Functor (Term f) where\n",
    "    fmap f (Pure x)   = Pure (f x)\n",
    "    fmap f (Impure t) = Impure (fmap (fmap f) t)\n",
    "    \n",
    "instance Functor f => Applicative (Term f) where\n",
    "    pure = Pure\n",
    "    (Pure f)    <*> (Pure a)    = Pure (f a)\n",
    "    ff          <*> (Impure ta) = Impure (fmap (ff <*>) ta)\n",
    "    (Impure tf) <*> a           = Impure (fmap (<*> a) tf)\n",
    "\n",
    "instance Functor f => Monad (Term f) where\n",
    "    return = Pure\n",
    "    (Pure x)   >>= f = f x\n",
    "    (Impure t) >>= f = Impure (fmap (>>= f) t)\n",
    "    \n",
    "data Zero a\n",
    "\n",
    "type Identity a = Term Zero a\n",
    "\n",
    "instance Functor Zero where\n",
    "    fmap _ _ = undefined -- ???\n",
    "    \n",
    "myId :: a -> Identity a\n",
    "myId = Pure\n",
    "\n",
    "instance Show a => Show (Identity a) where\n",
    "    show (Pure a) = show a\n",
    "\n",
    "do x <- myId 2\n",
    "   y <- myId 21\n",
    "   return (x * y)\n",
    "\n",
    "data One a = One\n",
    "\n",
    "instance Functor One where\n",
    "    fmap _ _ = One\n",
    "\n",
    "type MyMaybe = Term One\n",
    "\n",
    "myJust :: a -> MyMaybe a\n",
    "myJust = Pure\n",
    "\n",
    "myNothing :: MyMaybe a\n",
    "myNothing = Impure One\n",
    "\n",
    "instance Show a => Show (MyMaybe a) where\n",
    "    show (Pure a)   = \"Just \" ++ show a\n",
    "    show (Impure _) = \"Nothing\"\n",
    "\n",
    "do a <- myJust 1\n",
    "   b <- myJust 41\n",
    "   return (a + b)\n",
    "    \n",
    "data Const e a = Const e\n",
    "\n",
    "instance Functor (Const e) where\n",
    "    fmap _ (Const e) = Const e\n",
    "    \n",
    "type MyEither e a = Term (Const e) a\n",
    "\n",
    "myLeft :: e -> MyEither e a\n",
    "myLeft = Impure . Const\n",
    "\n",
    "myRight :: a -> MyEither e a\n",
    "myRight = Pure\n",
    "\n",
    "instance (Show e, Show a) => Show (MyEither e a) where\n",
    "    show (Pure a)           = \"Right \" ++ show a\n",
    "    show (Impure (Const e)) = \"Left \" ++ show e\n",
    "    \n",
    "do a <- myRight 4\n",
    "   b <- if a > 5 then myRight 40 else myLeft 1337\n",
    "   return (b + 2)\n",
    "   \n",
    "do a <- myRight 4\n",
    "   b <- if a < 5 then myRight 40 else myLeft 1337\n",
    "   return (b + 2)"
   ]
  },
  {
   "cell_type": "code",
   "execution_count": 72,
   "metadata": {
    "collapsed": false
   },
   "outputs": [],
   "source": [
    "data Incr t = Incr Int t\n",
    "\n",
    "instance Functor Incr where\n",
    "    fmap f (Incr n t) = Incr n (f t)\n",
    "\n",
    "data Recall t = Recall (Int -> t)\n",
    "\n",
    "instance Functor Recall where\n",
    "    fmap f (Recall r) = Recall (f . r)\n",
    "\n",
    "inject :: (g :<: f) => g (Term f a) -> Term f a\n",
    "inject = Impure . inj\n",
    "\n",
    "incr :: (Incr :<: f) => Int -> Term f ()\n",
    "incr i = inject (Incr i (Pure ()))\n",
    "\n",
    "recall :: (Recall :<: f) => Term f Int\n",
    "recall = inject (Recall Pure)\n",
    "\n",
    "tick :: Term (Recall :+: Incr) Int\n",
    "tick = do y <- recall\n",
    "          incr 1\n",
    "          return y"
   ]
  }
 ],
 "metadata": {
  "anaconda-cloud": {},
  "kernelspec": {
   "display_name": "Haskell",
   "language": "haskell",
   "name": "haskell"
  },
  "language_info": {
   "codemirror_mode": "ihaskell",
   "file_extension": ".hs",
   "name": "haskell",
   "version": "8.0.2"
  }
 },
 "nbformat": 4,
 "nbformat_minor": 1
}
