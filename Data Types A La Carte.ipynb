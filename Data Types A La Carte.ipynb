{
 "cells": [
  {
   "cell_type": "markdown",
   "metadata": {},
   "source": [
    "# Data types á la carte\n",
    "\n",
    "## 2. Fixing the expression problem"
   ]
  },
  {
   "cell_type": "code",
   "execution_count": 1,
   "metadata": {},
   "outputs": [],
   "source": [
    "data Expr f = In (f (Expr f)) -- same thing as Fix in recursion schemes\n",
    "\n",
    "-- things they don't explain in this paper: the \"magic\" in the above definition.\n",
    "-- how it solves the arbitrary nested type problem\n",
    "\n",
    "data Val e = Val Int\n",
    "data Add e = Add e e\n",
    "\n",
    "{-# LANGUAGE TypeOperators #-}\n",
    "\n",
    "data (f :+: g) e = Inl (f e) | Inr (g e)\n",
    "\n",
    "-- `Expr (Val :+: Add)`: an expression built from subexpressions of type `Val` or `Add`\n",
    "\n",
    "addExample :: Expr (Val :+: Add)\n",
    "addExample = In (Inr (Add (In (Inl (Val 118))) (In (Inl (Val 1219)))))\n",
    "\n",
    "-- fixes the expression problem b/c you can add new types and new functions easily?\n",
    "-- how to eval an expression like this?"
   ]
  },
  {
   "cell_type": "markdown",
   "metadata": {},
   "source": [
    "## 3. Evaluation"
   ]
  },
  {
   "cell_type": "code",
   "execution_count": 2,
   "metadata": {},
   "outputs": [],
   "source": [
    "instance Functor Val where\n",
    "    fmap f (Val x) = Val x\n",
    "    \n",
    "instance Functor Add where\n",
    "    fmap f (Add l r) = Add (f l) (f r) \n",
    "    \n",
    "instance (Functor f, Functor g) => Functor (f :+: g) where\n",
    "    fmap f (Inl l) = Inl (fmap f l)\n",
    "    fmap f (Inr r) = Inr (fmap f r)\n",
    "    \n",
    "foldExpr :: Functor f => (f a -> a) -> Expr f -> a -- same as cata in recursion schemes, I think\n",
    "foldExpr f (In t) = f (fmap (foldExpr f) t)"
   ]
  },
  {
   "cell_type": "markdown",
   "metadata": {},
   "source": [
    "* `f a -> a` is an algebra: something that does one step of the recursion using the results of the recursive calls\n",
    "* Idea: define and assemble algebras from individual cases (e.g. `Val` or `Add`) in order to define the algebra for the coproduct (e.g. `Val :+: Add`). We can use the type class system for this and teach it how to compose algebras."
   ]
  },
  {
   "cell_type": "code",
   "execution_count": 3,
   "metadata": {},
   "outputs": [
    {
     "data": {
      "text/plain": [
       "1337"
      ]
     },
     "metadata": {},
     "output_type": "display_data"
    }
   ],
   "source": [
    "-- A separate class for the algebra we aim to define:\n",
    "class Functor f => Eval f where\n",
    "    evalAlgebra :: f Int -> Int\n",
    "    \n",
    "instance Eval Val where\n",
    "    evalAlgebra (Val x) = x\n",
    "    \n",
    "instance Eval Add where\n",
    "    evalAlgebra (Add x y) = x + y\n",
    "\n",
    "instance (Eval f, Eval g) => Eval (f :+: g) where\n",
    "    evalAlgebra (Inl l) = evalAlgebra l\n",
    "    evalAlgebra (Inr r) = evalAlgebra r\n",
    "    \n",
    "eval :: Eval f => Expr f -> Int\n",
    "eval expr = foldExpr evalAlgebra expr\n",
    "\n",
    "eval addExample"
   ]
  },
  {
   "cell_type": "markdown",
   "metadata": {},
   "source": [
    "## 4. Automating injections\n",
    "\n",
    "A first attempt:"
   ]
  },
  {
   "cell_type": "code",
   "execution_count": 4,
   "metadata": {},
   "outputs": [
    {
     "data": {
      "text/html": [
       "<style>/* Styles used for the Hoogle display in the pager */\n",
       ".hoogle-doc {\n",
       "display: block;\n",
       "padding-bottom: 1.3em;\n",
       "padding-left: 0.4em;\n",
       "}\n",
       ".hoogle-code {\n",
       "display: block;\n",
       "font-family: monospace;\n",
       "white-space: pre;\n",
       "}\n",
       ".hoogle-text {\n",
       "display: block;\n",
       "}\n",
       ".hoogle-name {\n",
       "color: green;\n",
       "font-weight: bold;\n",
       "}\n",
       ".hoogle-head {\n",
       "font-weight: bold;\n",
       "}\n",
       ".hoogle-sub {\n",
       "display: block;\n",
       "margin-left: 0.4em;\n",
       "}\n",
       ".hoogle-package {\n",
       "font-weight: bold;\n",
       "font-style: italic;\n",
       "}\n",
       ".hoogle-module {\n",
       "font-weight: bold;\n",
       "}\n",
       ".hoogle-class {\n",
       "font-weight: bold;\n",
       "}\n",
       ".get-type {\n",
       "color: green;\n",
       "font-weight: bold;\n",
       "font-family: monospace;\n",
       "display: block;\n",
       "white-space: pre-wrap;\n",
       "}\n",
       ".show-type {\n",
       "color: green;\n",
       "font-weight: bold;\n",
       "font-family: monospace;\n",
       "margin-left: 1em;\n",
       "}\n",
       ".mono {\n",
       "font-family: monospace;\n",
       "display: block;\n",
       "}\n",
       ".err-msg {\n",
       "color: red;\n",
       "font-style: italic;\n",
       "font-family: monospace;\n",
       "white-space: pre;\n",
       "display: block;\n",
       "}\n",
       "#unshowable {\n",
       "color: red;\n",
       "font-weight: bold;\n",
       "}\n",
       ".err-msg.in.collapse {\n",
       "padding-top: 0.7em;\n",
       "}\n",
       ".highlight-code {\n",
       "white-space: pre;\n",
       "font-family: monospace;\n",
       "}\n",
       ".suggestion-warning { \n",
       "font-weight: bold;\n",
       "color: rgb(200, 130, 0);\n",
       "}\n",
       ".suggestion-error { \n",
       "font-weight: bold;\n",
       "color: red;\n",
       "}\n",
       ".suggestion-name {\n",
       "font-weight: bold;\n",
       "}\n",
       "</style><span class='err-msg'>&lt;interactive&gt;:1:1: error:<br/>    • Couldn't match type ‘Val’ with ‘Add’<br/>      Expected type: Expr Add<br/>        Actual type: Expr Val<br/>    • In the first argument of ‘(&lt;+&gt;)’, namely ‘val 1’<br/>      In the expression: val 1 &lt;+&gt; val 2<br/>      In an equation for ‘it’: it = val 1 &lt;+&gt; val 2<br/>&lt;interactive&gt;:1:11: error:<br/>    • Couldn't match type ‘Val’ with ‘Add’<br/>      Expected type: Expr Add<br/>        Actual type: Expr Val<br/>    • In the second argument of ‘(&lt;+&gt;)’, namely ‘val 2’<br/>      In the expression: val 1 &lt;+&gt; val 2<br/>      In an equation for ‘it’: it = val 1 &lt;+&gt; val 2</span>"
      ],
      "text/plain": [
       "<interactive>:1:1: error:\n",
       "    • Couldn't match type ‘Val’ with ‘Add’\n",
       "      Expected type: Expr Add\n",
       "        Actual type: Expr Val\n",
       "    • In the first argument of ‘(<+>)’, namely ‘val 1’\n",
       "      In the expression: val 1 <+> val 2\n",
       "      In an equation for ‘it’: it = val 1 <+> val 2\n",
       "<interactive>:1:11: error:\n",
       "    • Couldn't match type ‘Val’ with ‘Add’\n",
       "      Expected type: Expr Add\n",
       "        Actual type: Expr Val\n",
       "    • In the second argument of ‘(<+>)’, namely ‘val 2’\n",
       "      In the expression: val 1 <+> val 2\n",
       "      In an equation for ‘it’: it = val 1 <+> val 2"
      ]
     },
     "metadata": {},
     "output_type": "display_data"
    }
   ],
   "source": [
    "val :: Int -> Expr Val\n",
    "val x = In (Val x)\n",
    "\n",
    "infixl 6 <+>\n",
    "\n",
    "(<+>) :: Expr Add -> Expr Add -> Expr Add\n",
    "x <+> y = In (Add x y)\n",
    "\n",
    "val 1 <+> val 2 -- d'oh"
   ]
  },
  {
   "cell_type": "markdown",
   "metadata": {},
   "source": [
    "Idea: make signatures less rigid\n",
    "\n",
    "```haskell\n",
    "(⊕) :: (Add :≺: f ) ⇒ Expr f → Expr f → Expr f\n",
    "val :: (Val :≺: f ) ⇒ Int → Expr f\n",
    "```\n",
    "\n",
    "> The constraint `sub :≺: sup` should only be satisfied if there is some injection from `sub a` to `sup a`.\n",
    "\n",
    "Is `:≺:` a natural transformation?"
   ]
  },
  {
   "cell_type": "code",
   "execution_count": 5,
   "metadata": {},
   "outputs": [],
   "source": [
    "{-# LANGUAGE MultiParamTypeClasses #-}\n",
    "\n",
    "-- Idea: rather than writing `Inr` or `Inl` by hand,the \n",
    "-- injections can be inferred using instances of this class:\n",
    "class (Functor sub, Functor sup) => sub :<: sup where\n",
    "    inj :: sub a -> sup a\n",
    "    \n",
    "{-# LANGUAGE FlexibleInstances #-}\n",
    "\n",
    "-- \"Constructors\" that use the types:\n",
    "    \n",
    "-- reflexivity: something can be injected to itself (when is this one useful?)\n",
    "instance Functor f => f :<: f where\n",
    "    inj = id\n",
    "\n",
    "-- \"if f is true then f or g is true\". \n",
    "-- Inject anything into any coproduct that contains it explicitly\n",
    "instance (Functor f , Functor g) => f :<: (f :+: g) where\n",
    "    inj = Inl\n",
    "\n",
    "-- Inject anything into any coproduct that contains something it can be injected into\n",
    "instance (Functor f , Functor g, Functor h, f :<: g) => f :<: (h :+: g) where\n",
    "    inj = Inr . inj"
   ]
  },
  {
   "cell_type": "code",
   "execution_count": 6,
   "metadata": {},
   "outputs": [],
   "source": [
    "inject :: (g :<: f) => g (Expr f) -> Expr f\n",
    "inject = In . inj"
   ]
  }
 ],
 "metadata": {
  "anaconda-cloud": {},
  "kernelspec": {
   "display_name": "Haskell",
   "language": "haskell",
   "name": "haskell"
  },
  "language_info": {
   "codemirror_mode": "ihaskell",
   "file_extension": ".hs",
   "name": "haskell",
   "version": "8.0.2"
  }
 },
 "nbformat": 4,
 "nbformat_minor": 1
}
