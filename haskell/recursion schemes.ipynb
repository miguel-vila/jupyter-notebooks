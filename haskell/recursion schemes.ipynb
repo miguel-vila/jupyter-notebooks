{
 "cells": [
  {
   "cell_type": "markdown",
   "metadata": {},
   "source": [
    "# An introduction to recursion schemes\n",
    "\n",
    "## Part 1\n",
    "\n",
    "Following [An introduction to recursion schemes (Part 1)](http://blog.sumtypeofway.com/an-introduction-to-recursion-schemes/)"
   ]
  },
  {
   "cell_type": "code",
   "execution_count": 1,
   "metadata": {
    "collapsed": false
   },
   "outputs": [],
   "source": [
    "{-# LANGUAGE DeriveFunctor #-}\n",
    "\n",
    "data Lit = Str String\n",
    "            deriving (Show, Eq)\n",
    "\n",
    "data Expr a  \n",
    "  = Index a a\n",
    "  | Call a [a]\n",
    "  | Unary String a\n",
    "  | Binary a String a\n",
    "  | Paren a\n",
    "  | Literal Lit\n",
    "  deriving (Show, Eq, Functor)\n",
    "  \n",
    "data Term f = In (f (Term f))\n",
    "\n",
    "out :: Term f -> f (Term f)  \n",
    "out (In t) = t\n",
    "\n",
    "import Control.Arrow ((>>>),(<<<))\n",
    "\n",
    "bottomUp :: Functor f => (Term f -> Term f) -> Term f -> Term f\n",
    "bottomUp fn =  \n",
    "  out                    -- 1) unpack: gets a `f (Term f)`\n",
    "  >>> fmap (bottomUp fn) -- 2) recurse: get \"inside\" the `f` and apply `bottomUp fn` to it\n",
    "  >>> In                 -- 3) repack: turn the transformed `f (Term f)` into a `Term a`\n",
    "  >>> fn                 -- 4) apply: apply `bottomUp fn` to the final result"
   ]
  },
  {
   "cell_type": "code",
   "execution_count": 2,
   "metadata": {
    "collapsed": false
   },
   "outputs": [],
   "source": [
    "flattenT :: Term Expr -> Term Expr\n",
    "flattenT (In (Paren e)) = e\n",
    "flattenT other          = other\n",
    "\n",
    "flatten :: Term Expr -> Term Expr\n",
    "flatten = bottomUp flattenT"
   ]
  },
  {
   "cell_type": "markdown",
   "metadata": {},
   "source": [
    "Defining a top down traversal is symmetrical:\n",
    "\n",
    "1. apply\n",
    "2. unpack\n",
    "3. recurse\n",
    "4. repack"
   ]
  },
  {
   "cell_type": "code",
   "execution_count": 3,
   "metadata": {
    "collapsed": false
   },
   "outputs": [],
   "source": [
    "topDown, bottomUp :: Functor f => (Term f -> Term f) -> Term f -> Term f \n",
    "bottomUp f = out >>> fmap (bottomUp f) >>> In  >>> f\n",
    "topDown f  = In  <<< fmap (topDown f)  <<< out <<< f "
   ]
  },
  {
   "cell_type": "markdown",
   "metadata": {},
   "source": [
    "## Part II: A Mob of Morphisms\n",
    "\n",
    "Following [Part II: A Mob of Morphisms](https://blog.sumtypeofway.com/recursion-schemes-part-2/)"
   ]
  },
  {
   "cell_type": "code",
   "execution_count": 4,
   "metadata": {
    "collapsed": true
   },
   "outputs": [],
   "source": [
    "{-# LANGUAGE DeriveFunctor #-}\n",
    "\n",
    "data Expr a  \n",
    "  = Literal { intVal :: Int }\n",
    "  | Ident   { name :: String  }\n",
    "  | Index   { target :: a, idx :: a }\n",
    "  | Unary   { op :: String, target :: a }\n",
    "  | Binary  { lhs :: a, op :: String, rhs :: a }\n",
    "  | Call    { func :: a, args :: [a] }\n",
    "  | Paren   { target :: a }\n",
    "  deriving (Show, Eq, Functor)"
   ]
  },
  {
   "cell_type": "code",
   "execution_count": 5,
   "metadata": {
    "collapsed": true
   },
   "outputs": [],
   "source": [
    "newtype Term f = In { out :: f (Term f) }"
   ]
  },
  {
   "cell_type": "code",
   "execution_count": 6,
   "metadata": {
    "collapsed": true
   },
   "outputs": [],
   "source": [
    "ten, add, call :: Term Expr  \n",
    "ten  = In (Literal { intVal = 10 })  \n",
    "add  = In (Ident { name = \"add\" })  \n",
    "call = In (Call { func = add, args = [ten, ten]}) -- add(10, 10)"
   ]
  },
  {
   "cell_type": "markdown",
   "metadata": {},
   "source": [
    "> While this is a pleasing and concise representation of bottom-up transformations, it’s not as powerful as it could be: specifically, fn is limited to taking and returning a value of type `Term f`. We could not use `bottomUp` to count the total number of subexpressions in a tree (going from `Exprs` to `Ints`), nor could we transform this tree to a DOM representation (`Node`), nor could we render a term into a pretty-printed representation (`Doc`).\n",
    "\n",
    "Going back to `bottomUp`:"
   ]
  },
  {
   "cell_type": "code",
   "execution_count": 7,
   "metadata": {
    "collapsed": false
   },
   "outputs": [],
   "source": [
    "bottomUp :: Functor f => (Term f -> Term f) -> Term f -> Term f\n",
    "bottomUp fn =  \n",
    "  out                    -- 1) unpack: gets a `f (Term f)`\n",
    "  >>> fmap (bottomUp fn) -- 2) recurse: get \"inside\" the `f` and apply `bottomUp fn` to it\n",
    "  >>> In                 -- 3) repack: turn the transformed `f (Term f)` into a `Term a`\n",
    "  >>> fn                 -- 4) apply: apply `bottomUp fn` to the final result"
   ]
  },
  {
   "cell_type": "markdown",
   "metadata": {},
   "source": [
    "What if we didn't repack in step 3?\n",
    "\n",
    "Then `fn` must have type `f a -> a`\n",
    "\n",
    "> This is a function type, taking as input a container `f` of values of type `a` and returning a bare value of type `a`.\n",
    "\n",
    "What if we wanted to count the number of expressions?\n",
    "\n",
    "```haskell\n",
    "countNodes :: Expr Int -> Int\n",
    "```\n",
    "\n",
    "> The crucial element of understanding this function is its first parameter, here `Expr Int`. It captures an `Expr` **in the process of transformation** (...)"
   ]
  },
  {
   "cell_type": "code",
   "execution_count": 9,
   "metadata": {
    "collapsed": false
   },
   "outputs": [
    {
     "data": {
      "text/plain": [
       "4"
      ]
     },
     "metadata": {},
     "output_type": "display_data"
    }
   ],
   "source": [
    "mystery fn =  \n",
    "  out                   -- 1) unpack the Term\n",
    "  >>> fmap (mystery fn) -- 2) recursively apply `fn`\n",
    "  >>> fn                -- 3) apply `fn`\n",
    "  \n",
    "countNodes :: Expr Int -> Int\n",
    "countNodes (Unary _ arg)         = arg + 1  \n",
    "countNodes (Binary left _ right) = left + right + 1  \n",
    "countNodes (Call fn args)        = fn + sum args + 1  \n",
    "countNodes (Index it idx)        = it + idx + 1  \n",
    "countNodes (Paren arg)           = arg + 1\n",
    "countNodes (Literal _) = 1  --base case: no subexpression and fmap is identity here\n",
    "countNodes (Ident   _) = 1  --base case: no subexpression and fmap is identity here\n",
    "\n",
    "mystery countNodes call  "
   ]
  },
  {
   "cell_type": "markdown",
   "metadata": {},
   "source": [
    "> (...) It’s almost magical how mystery “knows” how to stop recursing – but it lies in the definition of `fmap`. `fmap mystery` is the identity function over `Literal` and `Ident` values, as they do not contain any subexpressions. At this point, mystery stops recursing, applies the function `f`, and returns into its previous invocations. (...)\n",
    "\n",
    "Los casos base de la recursion son las clausulas de `fmap` que no alteran el resultado.\n",
    "\n",
    "## Catamorphisms"
   ]
  },
  {
   "cell_type": "code",
   "execution_count": 18,
   "metadata": {
    "collapsed": false
   },
   "outputs": [
    {
     "data": {
      "text/plain": [
       "add(10, 10)"
      ]
     },
     "metadata": {},
     "output_type": "display_data"
    }
   ],
   "source": [
    "import Text.PrettyPrint (Doc)  \n",
    "import qualified Text.PrettyPrint as P\n",
    "\n",
    "type Algebra f a = f a -> a\n",
    "\n",
    "-- (...) the “cata” in “catamorphism” is the same “cata” \n",
    "-- in “catastrophe”, “catabolism”, and “catalyst”—from \n",
    "-- the Greek κατα, meaning “downwards”, “into”, or “collapse”.\n",
    "cata :: (Functor f) => Algebra f a -> Term f -> a  \n",
    "cata f = out >>> fmap (cata f) >>> f\n",
    "\n",
    "{-# LANGUAGE OverloadedStrings #-}\n",
    "\n",
    "import Data.Monoid\n",
    "\n",
    "prettyPrint :: Expr Doc -> Doc\n",
    "prettyPrint (Literal i) = P.int i  \n",
    "prettyPrint (Ident s) = P.text s\n",
    "-- f(a,b...)  \n",
    "prettyPrint (Call f as)     = f <> P.parens (P.cat (P.punctuate \", \" as))  \n",
    "-- a[b]\n",
    "prettyPrint (Index it idx)  = it <> P.brackets idx  \n",
    "-- op x\n",
    "prettyPrint (Unary op it)   = P.text op <> it  \n",
    "-- lhs op rhs\n",
    "prettyPrint (Binary l op r) = l <> P.text op <> r  \n",
    "-- (op)\n",
    "prettyPrint (Paren exp)     = P.parens exp\n",
    "\n",
    "cata prettyPrint call"
   ]
  },
  {
   "cell_type": "markdown",
   "metadata": {},
   "source": [
    "> `bottomUp f` is just `cata f`, with the additional step of stuffing the accumulator value into a `Term` with `In` before handing it off to `f`"
   ]
  },
  {
   "cell_type": "code",
   "execution_count": 20,
   "metadata": {
    "collapsed": true
   },
   "outputs": [],
   "source": [
    "bottomUp f = cata (In >>> f)"
   ]
  },
  {
   "cell_type": "markdown",
   "metadata": {},
   "source": [
    "## Anamorphisms\n",
    "\n",
    "Applying the \"reversing the arrows\" trick we did to `topDown` to `cata`:"
   ]
  },
  {
   "cell_type": "code",
   "execution_count": 22,
   "metadata": {
    "collapsed": false
   },
   "outputs": [
    {
     "data": {
      "text/html": [
       "<style>/* Styles used for the Hoogle display in the pager */\n",
       ".hoogle-doc {\n",
       "display: block;\n",
       "padding-bottom: 1.3em;\n",
       "padding-left: 0.4em;\n",
       "}\n",
       ".hoogle-code {\n",
       "display: block;\n",
       "font-family: monospace;\n",
       "white-space: pre;\n",
       "}\n",
       ".hoogle-text {\n",
       "display: block;\n",
       "}\n",
       ".hoogle-name {\n",
       "color: green;\n",
       "font-weight: bold;\n",
       "}\n",
       ".hoogle-head {\n",
       "font-weight: bold;\n",
       "}\n",
       ".hoogle-sub {\n",
       "display: block;\n",
       "margin-left: 0.4em;\n",
       "}\n",
       ".hoogle-package {\n",
       "font-weight: bold;\n",
       "font-style: italic;\n",
       "}\n",
       ".hoogle-module {\n",
       "font-weight: bold;\n",
       "}\n",
       ".hoogle-class {\n",
       "font-weight: bold;\n",
       "}\n",
       ".get-type {\n",
       "color: green;\n",
       "font-weight: bold;\n",
       "font-family: monospace;\n",
       "display: block;\n",
       "white-space: pre-wrap;\n",
       "}\n",
       ".show-type {\n",
       "color: green;\n",
       "font-weight: bold;\n",
       "font-family: monospace;\n",
       "margin-left: 1em;\n",
       "}\n",
       ".mono {\n",
       "font-family: monospace;\n",
       "display: block;\n",
       "}\n",
       ".err-msg {\n",
       "color: red;\n",
       "font-style: italic;\n",
       "font-family: monospace;\n",
       "white-space: pre;\n",
       "display: block;\n",
       "}\n",
       "#unshowable {\n",
       "color: red;\n",
       "font-weight: bold;\n",
       "}\n",
       ".err-msg.in.collapse {\n",
       "padding-top: 0.7em;\n",
       "}\n",
       ".highlight-code {\n",
       "white-space: pre;\n",
       "font-family: monospace;\n",
       "}\n",
       ".suggestion-warning { \n",
       "font-weight: bold;\n",
       "color: rgb(200, 130, 0);\n",
       "}\n",
       ".suggestion-error { \n",
       "font-weight: bold;\n",
       "color: red;\n",
       "}\n",
       ".suggestion-name {\n",
       "font-weight: bold;\n",
       "}\n",
       "</style><span class='get-type'>what :: forall (f :: * -> *) a. Functor f => (a -> f a) -> a -> Term f</span>"
      ],
      "text/plain": [
       "what :: forall (f :: * -> *) a. Functor f => (a -> f a) -> a -> Term f"
      ]
     },
     "metadata": {},
     "output_type": "display_data"
    }
   ],
   "source": [
    "what f = In <<< fmap (what f) <<< f\n",
    "\n",
    ":t what"
   ]
  },
  {
   "cell_type": "code",
   "execution_count": 24,
   "metadata": {
    "collapsed": true
   },
   "outputs": [],
   "source": [
    "type Coalgebra f a = a -> f a\n",
    "\n",
    "-- We call the what an anamorphism – the “ana” prefix, \n",
    "-- meaning “building”, is the opposite of “cata”\n",
    "ana :: (Functor f) => Coalgebra f a -> a -> Term f  \n",
    "ana f = In <<< fmap (ana f) <<< f"
   ]
  }
 ],
 "metadata": {
  "anaconda-cloud": {},
  "kernelspec": {
   "display_name": "Haskell",
   "language": "haskell",
   "name": "haskell"
  },
  "language_info": {
   "codemirror_mode": "ihaskell",
   "file_extension": ".hs",
   "name": "haskell",
   "version": "8.0.2"
  }
 },
 "nbformat": 4,
 "nbformat_minor": 1
}
