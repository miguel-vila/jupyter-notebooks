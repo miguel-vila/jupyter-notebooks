{
 "cells": [
  {
   "cell_type": "markdown",
   "metadata": {},
   "source": [
    "# Essential effects notes\n",
    "\n",
    "## Chapter 3\n",
    "\n",
    "### Parallel typeclass\n",
    "\n",
    "* Cats-effect `Applicative` instance for `IO` is non parallel\n",
    "* Cats-effect `IO` has a separate data type for parallel effects: `IO.Par`"
   ]
  },
  {
   "cell_type": "code",
   "execution_count": 1,
   "metadata": {
    "collapsed": false
   },
   "outputs": [
    {
     "data": {
      "text/plain": [
       "\u001b[32mimport \u001b[39m\u001b[36m$ivy.$                                 \n",
       "\u001b[39m\n",
       "\u001b[32mimport \u001b[39m\u001b[36mcats.effect._, cats.syntax._, cats.syntax.apply._\n",
       "\n",
       "\u001b[39m\n",
       "defined \u001b[32mtrait\u001b[39m \u001b[36mExplicitChanges\u001b[39m"
      ]
     },
     "execution_count": 1,
     "metadata": {},
     "output_type": "execute_result"
    }
   ],
   "source": [
    "import $ivy.`org.typelevel::cats-effect:2.3.1`\n",
    "import cats.effect._, cats.syntax._, cats.syntax.apply._\n",
    "\n",
    "trait ExplicitChanges[A,B,C] {\n",
    "    import scala.concurrent.ExecutionContext\n",
    "    // Par Applicative instance needs a ContextShift in scope\n",
    "    implicit val contextShift: ContextShift[IO] = IO.contextShift(ExecutionContext.global)\n",
    "    val ia: IO[A] = IO(???)\n",
    "    val ib: IO[B] = IO(???)\n",
    "    def f(a: A, b: B): C = ???\n",
    "    val ipa: IO.Par[A] = IO.Par(ia)\n",
    "    val ipb: IO.Par[B] = IO.Par(ib)\n",
    "    val ipc: IO.Par[C] = (ipa, ipb).mapN(f)\n",
    "    val ic: IO[C] = IO.Par.unwrap(ipc)\n",
    "}"
   ]
  },
  {
   "cell_type": "markdown",
   "metadata": {},
   "source": [
    "* To make transformations easier there's the `Parallel` typeclass\n",
    "\n",
    "```scala\n",
    "trait Parallel[S[_]] {\n",
    "  type P[_]\n",
    "  def monad: Monad[S]\n",
    "  def applicative: Applicative[P]\n",
    "  // nat transformations\n",
    "  def sequential: P ~> S\n",
    "  def parallel: S ~> P\n",
    "}\n",
    "```\n",
    "\n",
    "<img src=\"files/images/parallel-tc.png\">"
   ]
  },
  {
   "cell_type": "code",
   "execution_count": 2,
   "metadata": {
    "collapsed": false
   },
   "outputs": [
    {
     "data": {
      "text/plain": [
       "\u001b[32mimport \u001b[39m\u001b[36mcats.syntax.parallel._\n",
       "\u001b[39m\n",
       "defined \u001b[32mtrait\u001b[39m \u001b[36mImplicitChanges\u001b[39m"
      ]
     },
     "execution_count": 2,
     "metadata": {},
     "output_type": "execute_result"
    }
   ],
   "source": [
    "import cats.syntax.parallel._\n",
    "trait ImplicitChanges[A,B,C] {\n",
    "    val ia: IO[A] = IO(???)\n",
    "    val ib: IO[B] = IO(???)\n",
    "    def f(a: A, b: B): C = ???\n",
    "    \n",
    "    import scala.concurrent.ExecutionContext\n",
    "    // Implicit conversions from IO to IO.Par need a ContextShift in scope\n",
    "    implicit val contextShift: ContextShift[IO] = IO.contextShift(ExecutionContext.global)\n",
    "    val ic: IO[C] = (ia,ib).parMapN(f)\n",
    "}"
   ]
  },
  {
   "cell_type": "code",
   "execution_count": 3,
   "metadata": {
    "collapsed": false
   },
   "outputs": [
    {
     "data": {
      "text/plain": [
       "defined \u001b[32mclass\u001b[39m \u001b[36mDebugHelper\u001b[39m"
      ]
     },
     "execution_count": 3,
     "metadata": {},
     "output_type": "execute_result"
    }
   ],
   "source": [
    "/** Extension methods for an effect of type `F[A]`. */\n",
    "implicit class DebugHelper[A](ioa: IO[A]) {\n",
    "\n",
    "/** Print to the console the value of the effect\n",
    " * along with the thread it was computed on. */\n",
    "def debug: IO[A] =\n",
    "  for {\n",
    "    a <- ioa\n",
    "    tn = Thread.currentThread.getName\n",
    "    _ = println(s\"[${tn}] $a\") // <1>\n",
    "  } yield a\n",
    "}"
   ]
  },
  {
   "cell_type": "code",
   "execution_count": 4,
   "metadata": {
    "collapsed": false
   },
   "outputs": [
    {
     "name": "stdout",
     "output_type": "stream",
     "text": [
      "[ioapp-compute-0] hello\n",
      "[ioapp-compute-0] world\n",
      "[ioapp-compute-0] hello world\n"
     ]
    },
    {
     "data": {
      "text/plain": [
       "defined \u001b[32mobject\u001b[39m \u001b[36mDebugExample\u001b[39m"
      ]
     },
     "execution_count": 4,
     "metadata": {},
     "output_type": "execute_result"
    }
   ],
   "source": [
    "object DebugExample extends IOApp {\n",
    "  def run(args: List[String]): IO[ExitCode] =\n",
    "    seq.as(ExitCode.Success)\n",
    "\n",
    "  val hello = IO(\"hello\").debug\n",
    "  val world = IO(\"world\").debug\n",
    "  val seq = (hello, world).mapN((h, w) => s\"$h $w\").debug\n",
    "}\n",
    "\n",
    "DebugExample.main(Array.empty)"
   ]
  },
  {
   "cell_type": "code",
   "execution_count": 5,
   "metadata": {
    "collapsed": false
   },
   "outputs": [
    {
     "name": "stdout",
     "output_type": "stream",
     "text": [
      "[ioapp-compute-1] hello\n",
      "[ioapp-compute-2] world\n",
      "[ioapp-compute-1] hello world\n"
     ]
    },
    {
     "data": {
      "text/plain": [
       "defined \u001b[32mobject\u001b[39m \u001b[36mParMapN\u001b[39m"
      ]
     },
     "execution_count": 5,
     "metadata": {},
     "output_type": "execute_result"
    }
   ],
   "source": [
    "object ParMapN extends IOApp {\n",
    "  def run(args: List[String]): IO[ExitCode] = par.as(ExitCode.Success)\n",
    "\n",
    "  val hello = IO(\"hello\").debug\n",
    "  val world = IO(\"world\").debug\n",
    "  val par =\n",
    "    (hello, world) \n",
    "    .parMapN((h, w) => s\"$h $w\")\n",
    "    .debug\n",
    "}\n",
    "ParMapN.main(Array.empty)"
   ]
  },
  {
   "cell_type": "code",
   "execution_count": 6,
   "metadata": {
    "collapsed": false
   },
   "outputs": [
    {
     "name": "stdout",
     "output_type": "stream",
     "text": [
      "[ioapp-compute-4] hi\n",
      "[ioapp-compute-5] Left(java.lang.RuntimeException: oh!)\n",
      "[ioapp-compute-5] ---\n",
      "[ioapp-compute-6] Left(java.lang.RuntimeException: oh!)\n",
      "[ioapp-compute-6] ---\n",
      "[ioapp-compute-5] Left(java.lang.RuntimeException: oh!)\n"
     ]
    },
    {
     "data": {
      "text/plain": [
       "defined \u001b[32mobject\u001b[39m \u001b[36mParMapNErrors\u001b[39m"
      ]
     },
     "execution_count": 6,
     "metadata": {},
     "output_type": "execute_result"
    }
   ],
   "source": [
    "object ParMapNErrors extends IOApp {\n",
    "  def run(args: List[String]): IO[ExitCode] =\n",
    "    e1.attempt.debug *>\n",
    "    IO(\"---\").debug *>\n",
    "    e2.attempt.debug *>\n",
    "    IO(\"---\").debug *>\n",
    "    e3.attempt.debug *>\n",
    "    IO.pure(ExitCode.Success)\n",
    "  val ok = IO(\"hi\").debug\n",
    "  val ko1 = IO.raiseError[String](new RuntimeException(\"oh!\")).debug\n",
    "  val ko2 = IO.raiseError[String](new RuntimeException(\"noes!\")).debug\n",
    "  val e1 = (ok, ko1).parMapN((_, _) => ())\n",
    "  val e2 = (ko1, ok).parMapN((_, _) => ())\n",
    "  val e3 = (ko1, ko2).parMapN((_, _) => ())\n",
    "}\n",
    "ParMapNErrors.main(Array.empty)"
   ]
  },
  {
   "cell_type": "markdown",
   "metadata": {},
   "source": [
    "### Summary\n",
    "1. IO does not support parallel operations itself, because it is a Monad.\n",
    "2. The Parallel typeclass specifies the translation between a pair of effect types:\n",
    "one that is a Monad and the other that is “only” an Applicative.\n",
    "3. Parallel[IO] connects the IO effect to its parallel counterpart, IO.Par.\n",
    "4. Parallel IO composition requires the ability to shift computations to other\n",
    "threads within the current ExecutionContext. This is how parallelism is\n",
    "“implemented”.\n",
    "5. parMapN, parTraverse, parSequence are the parallel versions of (the sequential)\n",
    "mapN, traverse, and sequence. Errors are managed in a fail-fast manner."
   ]
  },
  {
   "cell_type": "code",
   "execution_count": 7,
   "metadata": {
    "collapsed": false
   },
   "outputs": [
    {
     "name": "stdout",
     "output_type": "stream",
     "text": [
      "[ioapp-compute-1] pre-join\n",
      "[ioapp-compute-3] task\n",
      "[ioapp-compute-3] task\n",
      "[ioapp-compute-3] post-join\n"
     ]
    },
    {
     "data": {
      "text/plain": [
       "\u001b[32mimport \u001b[39m\u001b[36mscala.concurrent.duration._\n",
       "\u001b[39m\n",
       "defined \u001b[32mobject\u001b[39m \u001b[36mJoinAfterStart\u001b[39m"
      ]
     },
     "execution_count": 7,
     "metadata": {},
     "output_type": "execute_result"
    }
   ],
   "source": [
    "import scala.concurrent.duration._\n",
    "object JoinAfterStart extends IOApp {\n",
    "  def run(args: List[String]): IO[ExitCode] =\n",
    "     for {\n",
    "        fiber <- task.start\n",
    "        _ <- IO(\"pre-join\").debug\n",
    "        _ <- fiber.join.debug\n",
    "        _ <- IO(\"post-join\").debug\n",
    "    } yield ExitCode.Success\n",
    "  val task: IO[String] =\n",
    "    IO.sleep(2.seconds) *> IO(\"task\").debug\n",
    "}\n",
    "JoinAfterStart.main(Array.empty)"
   ]
  },
  {
   "cell_type": "markdown",
   "metadata": {},
   "source": [
    "> When we join a Fiber, execution continues on the thread the Fiber was running on."
   ]
  }
 ],
 "metadata": {
  "kernelspec": {
   "display_name": "Scala",
   "language": "scala",
   "name": "scala"
  },
  "language_info": {
   "codemirror_mode": "text/x-scala",
   "file_extension": ".sc",
   "mimetype": "text/x-scala",
   "name": "scala",
   "nbconvert_exporter": "script",
   "version": "2.13.3"
  }
 },
 "nbformat": 4,
 "nbformat_minor": 2
}
