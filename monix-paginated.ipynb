{
 "cells": [
  {
   "cell_type": "code",
   "execution_count": 1,
   "metadata": {
    "collapsed": false
   },
   "outputs": [
    {
     "name": "stdout",
     "output_type": "stream",
     "text": [
      "with takeWhileInclusive\n",
      "[shard-it: 1 record: 1]\n",
      "[shard-it: 1 record: 2]\n",
      "[shard-it: 2 record: 1]\n",
      "[shard-it: 2 record: 2]\n",
      "[shard-it: 3 record: 1]\n",
      "[shard-it: 3 record: 2]\n"
     ]
    },
    {
     "data": {
      "text/plain": [
       "\u001b[32mimport \u001b[39m\u001b[36m$ivy.$                      , monix._\n",
       "\u001b[39m\n",
       "\u001b[32mimport \u001b[39m\u001b[36mmonix.eval.Task\n",
       "\u001b[39m\n",
       "\u001b[32mimport \u001b[39m\u001b[36mmonix.reactive.Observable\n",
       "\u001b[39m\n",
       "\u001b[32mimport \u001b[39m\u001b[36mscala.concurrent.duration._\n",
       "\u001b[39m\n",
       "\u001b[32mimport \u001b[39m\u001b[36mmonix.execution.Scheduler.Implicits.global\n",
       "\u001b[39m\n",
       "\u001b[36minitialShardIterator\u001b[39m: \u001b[32mString\u001b[39m = \u001b[32m\"0\"\u001b[39m\n",
       "defined \u001b[32mfunction\u001b[39m \u001b[36mgetRecordsTask1\u001b[39m\n",
       "\u001b[36mallRecordsObs1\u001b[39m: \u001b[32mmonix\u001b[39m.\u001b[32mreactive\u001b[39m.\u001b[32mObservable\u001b[39m[\u001b[32mString\u001b[39m] = monix.reactive.internal.operators.ConcatMapObservable@73416e1b"
      ]
     },
     "execution_count": 1,
     "metadata": {},
     "output_type": "execute_result"
    }
   ],
   "source": [
    "import $ivy.`io.monix::monix:3.0.0`, monix._\n",
    "import monix.eval.Task\n",
    "import monix.reactive.Observable\n",
    "import scala.concurrent.duration._\n",
    "import monix.execution.Scheduler.Implicits.global\n",
    "val initialShardIterator = \"0\"\n",
    "\n",
    "println(\"with takeWhileInclusive\")\n",
    "def getRecordsTask1(shardIt: String): Task[(List[String], Option[String])] = {\n",
    "    val records = (1 to 2).map { i => s\"[shard-it: $shardIt record: $i]\" }.toList\n",
    "    if (shardIt.toInt < 3) {  \n",
    "        Task((records, Some((shardIt.toInt + 1).toString)))\n",
    "    } else {\n",
    "        Task((records, None))\n",
    "    }\n",
    "}\n",
    "\n",
    "val allRecordsObs1 = Observable.interval(0.seconds)\n",
    " .scanTask(getRecordsTask1(initialShardIterator)) {\n",
    "    case ((records, nextShardIt), _) =>\n",
    "        nextShardIt match {\n",
    "              case None => Task.pure((records, None))\n",
    "              case Some(nextShardIt) => {\n",
    "                getRecordsTask1(nextShardIt)\n",
    "              }\n",
    "        }\n",
    "    }\n",
    "    .takeWhileInclusive {\n",
    "        case (_, nextShardIt) => nextShardIt.isDefined\n",
    "    }\n",
    "    .flatMap {\n",
    "        case (records, _) => Observable.fromIterable(records)\n",
    "    }\n",
    "allRecordsObs1.toListL.runSyncUnsafe(1.second).foreach(println)"
   ]
  },
  {
   "cell_type": "code",
   "execution_count": 2,
   "metadata": {
    "collapsed": false
   },
   "outputs": [
    {
     "name": "stdout",
     "output_type": "stream",
     "text": [
      "with takeWhile\n",
      "[shard-it: 1 record: 1]\n",
      "[shard-it: 1 record: 2]\n",
      "[shard-it: 2 record: 1]\n",
      "[shard-it: 2 record: 2]\n"
     ]
    },
    {
     "data": {
      "text/plain": [
       "defined \u001b[32mfunction\u001b[39m \u001b[36mgetRecordsTask2\u001b[39m\n",
       "\u001b[36mallRecordsObs2\u001b[39m: \u001b[32mObservable\u001b[39m[\u001b[32mString\u001b[39m] = monix.reactive.internal.operators.ConcatMapObservable@2e9c6e87"
      ]
     },
     "execution_count": 2,
     "metadata": {},
     "output_type": "execute_result"
    }
   ],
   "source": [
    "println(\"with takeWhile\")\n",
    "def getRecordsTask2(shardIt: String): Task[(List[String], Option[String])] = {\n",
    "    val records = (1 to 2).map { i => s\"[shard-it: $shardIt record: $i]\" }.toList\n",
    "    if (shardIt.toInt < 3) {  \n",
    "        Task((records, Some((shardIt.toInt + 1).toString)))\n",
    "    } else {\n",
    "        Task((records, None))\n",
    "    }\n",
    "}\n",
    "\n",
    "val allRecordsObs2 = Observable.interval(0.seconds)\n",
    " .scanTask(getRecordsTask2(initialShardIterator)) {\n",
    "    case ((records, nextShardIt), _) =>\n",
    "        nextShardIt match {\n",
    "              case None => Task.pure((records, None))\n",
    "              case Some(nextShardIt) => {\n",
    "                getRecordsTask2(nextShardIt)\n",
    "              }\n",
    "        }\n",
    "    }\n",
    "    .takeWhile {\n",
    "        case (_, nextShardIt) => nextShardIt.isDefined\n",
    "    }\n",
    "    .flatMap {\n",
    "        case (records, _) => Observable.fromIterable(records)\n",
    "    }\n",
    "allRecordsObs2.toListL.runSyncUnsafe(1.second).foreach(println)"
   ]
  },
  {
   "cell_type": "code",
   "execution_count": 3,
   "metadata": {
    "collapsed": false
   },
   "outputs": [
    {
     "name": "stdout",
     "output_type": "stream",
     "text": [
      "with takeWhileInclusive and accumulating\n",
      "[shard-it: 0 record: 1]\n",
      "[shard-it: 0 record: 2]\n",
      "[shard-it: 1 record: 1]\n",
      "[shard-it: 1 record: 2]\n",
      "[shard-it: 0 record: 1]\n",
      "[shard-it: 0 record: 2]\n",
      "[shard-it: 1 record: 1]\n",
      "[shard-it: 1 record: 2]\n",
      "[shard-it: 2 record: 1]\n",
      "[shard-it: 2 record: 2]\n",
      "[shard-it: 0 record: 1]\n",
      "[shard-it: 0 record: 2]\n",
      "[shard-it: 1 record: 1]\n",
      "[shard-it: 1 record: 2]\n",
      "[shard-it: 2 record: 1]\n",
      "[shard-it: 2 record: 2]\n",
      "[shard-it: 3 record: 1]\n",
      "[shard-it: 3 record: 2]\n"
     ]
    },
    {
     "data": {
      "text/plain": [
       "defined \u001b[32mfunction\u001b[39m \u001b[36mgetRecordsTask3\u001b[39m\n",
       "\u001b[36mallRecordsObs3\u001b[39m: \u001b[32mObservable\u001b[39m[\u001b[32mString\u001b[39m] = monix.reactive.internal.operators.ConcatMapObservable@4b10dac5"
      ]
     },
     "execution_count": 3,
     "metadata": {},
     "output_type": "execute_result"
    }
   ],
   "source": [
    "println(\"with takeWhileInclusive and accumulating\")\n",
    "def getRecordsTask3(shardIt: String, acc: List[String]): Task[(List[String], Option[String])] = {\n",
    "    val records = (1 to 2).map { i => s\"[shard-it: $shardIt record: $i]\" }.toList\n",
    "    if (shardIt.toInt < 3) {  \n",
    "        Task((acc ++ records, Some((shardIt.toInt + 1).toString)))\n",
    "    } else {\n",
    "        Task((acc ++ records, None))\n",
    "    }\n",
    "}\n",
    "\n",
    "val allRecordsObs3 = Observable.interval(0.seconds)\n",
    " .scanTask(getRecordsTask3(initialShardIterator, acc = List.empty)) {\n",
    "    case ((records, nextShardIt), _) =>\n",
    "        nextShardIt match {\n",
    "              case None => Task.pure((records, None))\n",
    "              case Some(nextShardIt) => {\n",
    "                getRecordsTask3(nextShardIt, records)\n",
    "              }\n",
    "        }\n",
    "    }\n",
    "    .takeWhileInclusive {\n",
    "        case (_, nextShardIt) => nextShardIt.isDefined\n",
    "    }\n",
    "    .flatMap {\n",
    "        case (records, _) => Observable.fromIterable(records)\n",
    "    }\n",
    "\n",
    "allRecordsObs3.toListL.runSyncUnsafe(1.second).foreach(println)"
   ]
  }
 ],
 "metadata": {
  "kernelspec": {
   "display_name": "Scala",
   "language": "scala",
   "name": "scala"
  },
  "language_info": {
   "codemirror_mode": "text/x-scala",
   "file_extension": ".scala",
   "mimetype": "text/x-scala",
   "name": "scala211",
   "nbconvert_exporter": "scala",
   "pygments_lexer": "scala",
   "version": "2.11.8"
  }
 },
 "nbformat": 4,
 "nbformat_minor": 2
}
